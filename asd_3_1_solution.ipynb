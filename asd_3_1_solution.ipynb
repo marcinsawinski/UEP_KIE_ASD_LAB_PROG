{
 "cells": [
  {
   "attachments": {},
   "cell_type": "markdown",
   "metadata": {},
   "source": [
    "# Zadanie 3.1\n",
    "## Struktury danych"
   ]
  },
  {
   "attachments": {},
   "cell_type": "markdown",
   "metadata": {},
   "source": [
    "**Link:** https://colab.research.google.com/github/marcinsawinski/UEP_KIE_ASD_LAB_PROG/blob/master/asd_3_1_solution.ipynb"
   ]
  },
  {
   "attachments": {},
   "cell_type": "markdown",
   "metadata": {},
   "source": [
    "# Stos i kolejka\n",
    "\n",
    "Stworz stos i kolejkę dodając kolejno wartości 5,7,9 a pozniej zdejmując. Użyj  listy i obiektu deque."
   ]
  },
  {
   "cell_type": "code",
   "execution_count": 17,
   "metadata": {},
   "outputs": [
    {
     "data": {
      "text/plain": [
       "[3, 4, 5, 6]"
      ]
     },
     "execution_count": 17,
     "metadata": {},
     "output_type": "execute_result"
    }
   ],
   "source": [
    "# lista jako stos\n",
    "stack = [3, 4, 5]\n",
    "stack.append(6) # jak push\n",
    "stack"
   ]
  },
  {
   "cell_type": "code",
   "execution_count": 18,
   "metadata": {},
   "outputs": [
    {
     "data": {
      "text/plain": [
       "6"
      ]
     },
     "execution_count": 18,
     "metadata": {},
     "output_type": "execute_result"
    }
   ],
   "source": [
    "stack.pop()"
   ]
  },
  {
   "cell_type": "code",
   "execution_count": 19,
   "metadata": {},
   "outputs": [
    {
     "data": {
      "text/plain": [
       "[3, 4, 5]"
      ]
     },
     "execution_count": 19,
     "metadata": {},
     "output_type": "execute_result"
    }
   ],
   "source": [
    "stack"
   ]
  },
  {
   "cell_type": "code",
   "execution_count": 25,
   "metadata": {},
   "outputs": [
    {
     "data": {
      "text/plain": [
       "deque([3, 4, 5, 6])"
      ]
     },
     "execution_count": 25,
     "metadata": {},
     "output_type": "execute_result"
    }
   ],
   "source": [
    "# Deque (Doubly Ended Queue) jako stos lub kolejka\n",
    "from collections import deque\n",
    "stack = deque([3, 4, 5])\n",
    "stack.append(6) # jak push\n",
    "stack"
   ]
  },
  {
   "cell_type": "code",
   "execution_count": 26,
   "metadata": {},
   "outputs": [
    {
     "data": {
      "text/plain": [
       "6"
      ]
     },
     "execution_count": 26,
     "metadata": {},
     "output_type": "execute_result"
    }
   ],
   "source": [
    "stack.pop()"
   ]
  },
  {
   "cell_type": "code",
   "execution_count": 27,
   "metadata": {},
   "outputs": [
    {
     "data": {
      "text/plain": [
       "deque([2, 3, 4, 5])"
      ]
     },
     "execution_count": 27,
     "metadata": {},
     "output_type": "execute_result"
    }
   ],
   "source": [
    "stack.appendleft(2)\n",
    "stack"
   ]
  },
  {
   "cell_type": "code",
   "execution_count": 28,
   "metadata": {},
   "outputs": [
    {
     "data": {
      "text/plain": [
       "2"
      ]
     },
     "execution_count": 28,
     "metadata": {},
     "output_type": "execute_result"
    }
   ],
   "source": [
    "stack.popleft()"
   ]
  },
  {
   "attachments": {},
   "cell_type": "markdown",
   "metadata": {},
   "source": [
    "### Zaimplementuje drzewo binarne i wskaż kolejność wierzchołków inorder, pre-order i postorder dla podanego drzewa. Wartości w drzewie to 2,14,3,6,10,22,24,50. Zapisz drzewo mające wusokość 3 i 5."
   ]
  },
  {
   "cell_type": "code",
   "execution_count": 1,
   "metadata": {},
   "outputs": [],
   "source": [
    "# Rozwiązanie\n",
    "class Tree():                         # drzewo\n",
    "  def __init__(self, root=None):      # konstruktor drzewa, w pythonie dla klas pierwszy argument jest pomijany (to zawsze self), a jedynym \"prawdziwym\" argumentem jest korzeń (domyślnie pusty)\n",
    "    self.root = root\n",
    "\n",
    "class Node:                           # węzeł drzewa\n",
    "  def __init__(self, k, left, right, parent=None): # konstruktur (klucz, lewe dziecko, prawe dziecko, rodzic (domyślnie pusty))\n",
    "    self.parent = parent              # rodzic \n",
    "    self.key = k                      # wartość przechowywana w tym węźle\n",
    "    self.left = left                  # wskaźnik na lewe poddrzewo\n",
    "    self.right = right                # wskaźnik na prawe poddrewo\n",
    "  def __str__(self):                  # metoda zamieniająca drzewo na łańcuch znaków (przydatna przy printowaniu)\n",
    "    return \"Jestem węzłem drzewa i przechowuję wartość {}\".format(self.key)\n",
    "\n",
    "def preorderTreeWalk(x):\n",
    "  if x is not None:\n",
    "    print(x.key)\n",
    "    preorderTreeWalk(x.left)\n",
    "    preorderTreeWalk(x.right)\n",
    "\n",
    "def inorderTreeWalk(x):\n",
    "  if x is not None:\n",
    "    inorderTreeWalk(x.left)\n",
    "    print(x.key)\n",
    "    inorderTreeWalk(x.right)\n",
    "\n",
    "def postorderTreeWalk(x):\n",
    "  if x is not None:\n",
    "    postorderTreeWalk(x.left)\n",
    "    postorderTreeWalk(x.right)\n",
    "    print(x.key)\n",
    "\n",
    "def treeSearch(x, k):\n",
    "  if x is None or k == x.key:\n",
    "    return x\n",
    "  if k < x.key:\n",
    "    return treeSearch(x.left, k)\n",
    "  else:\n",
    "    return treeSearch(x.right, k)\n",
    "    \n",
    "def treeSearchIterative(x, k):\n",
    "  while x is not None and k != x.key:\n",
    "    if k < x.key:\n",
    "      x = x.left\n",
    "    else:\n",
    "      x = x.right\n",
    "  return x\n",
    "\n",
    "def treeMinimum(x):\n",
    "  while x.left != None:\n",
    "    x = x.left\n",
    "  return x\n",
    "  \n",
    "def treeMaximum(x):\n",
    "  while x.right != None:\n",
    "    x = x.right\n",
    "  return x"
   ]
  },
  {
   "cell_type": "code",
   "execution_count": 2,
   "metadata": {},
   "outputs": [],
   "source": [
    "n_two = Node(2, None, None)\n",
    "n_five = Node(5, None, None)\n",
    "n_three = Node(3, n_two, n_five)\n",
    "n_eight = Node(8, None, None)\n",
    "n_seven = Node(7, None, n_eight)\n",
    "n_six = Node(6, n_three, n_seven)\n",
    "\n",
    "n_six.parent = None\n",
    "\n",
    "n_three.parent = n_six\n",
    "n_seven.parent = n_six\n",
    "\n",
    "n_two.parent = n_three\n",
    "n_five.parent = n_three\n",
    "\n",
    "n_eight.parent = n_seven\n",
    "\n",
    "tree = Tree(root=n_six)"
   ]
  },
  {
   "cell_type": "code",
   "execution_count": 3,
   "metadata": {},
   "outputs": [
    {
     "name": "stdout",
     "output_type": "stream",
     "text": [
      "2\n",
      "3\n",
      "5\n",
      "6\n",
      "7\n",
      "8\n"
     ]
    }
   ],
   "source": [
    "inorderTreeWalk(tree.root)"
   ]
  },
  {
   "cell_type": "code",
   "execution_count": 6,
   "metadata": {},
   "outputs": [
    {
     "name": "stdout",
     "output_type": "stream",
     "text": [
      "6\n",
      "3\n",
      "2\n",
      "5\n",
      "7\n",
      "8\n"
     ]
    }
   ],
   "source": [
    "preorderTreeWalk(tree.root)"
   ]
  },
  {
   "cell_type": "code",
   "execution_count": 7,
   "metadata": {},
   "outputs": [
    {
     "name": "stdout",
     "output_type": "stream",
     "text": [
      "2\n",
      "5\n",
      "3\n",
      "8\n",
      "7\n",
      "6\n"
     ]
    }
   ],
   "source": [
    "postorderTreeWalk(tree.root)"
   ]
  },
  {
   "cell_type": "code",
   "execution_count": 4,
   "metadata": {},
   "outputs": [
    {
     "name": "stdout",
     "output_type": "stream",
     "text": [
      "Jestem węzłem drzewa i przechowuję wartość 7\n"
     ]
    }
   ],
   "source": [
    "nodeWithSeven = treeSearch(tree.root, 7)\n",
    "print(nodeWithSeven)"
   ]
  },
  {
   "cell_type": "code",
   "execution_count": 5,
   "metadata": {},
   "outputs": [
    {
     "name": "stdout",
     "output_type": "stream",
     "text": [
      "Jestem węzłem drzewa i przechowuję wartość 8\n"
     ]
    }
   ],
   "source": [
    "print(treeMaximum(tree.root))"
   ]
  }
 ],
 "metadata": {
  "kernelspec": {
   "display_name": "Python 3.9.13 ('hml3')",
   "language": "python",
   "name": "python3"
  },
  "language_info": {
   "codemirror_mode": {
    "name": "ipython",
    "version": 3
   },
   "file_extension": ".py",
   "mimetype": "text/x-python",
   "name": "python",
   "nbconvert_exporter": "python",
   "pygments_lexer": "ipython3",
   "version": "3.9.13 | packaged by conda-forge | (main, May 27 2022, 17:01:00) \n[Clang 13.0.1 ]"
  },
  "orig_nbformat": 4,
  "vscode": {
   "interpreter": {
    "hash": "ac2598a53cd48ed973662853cbed9ce85601c819c2e7e5e54efa32ca245c1cee"
   }
  }
 },
 "nbformat": 4,
 "nbformat_minor": 2
}
