{
 "cells": [
  {
   "cell_type": "markdown",
   "metadata": {},
   "source": [
    "# Zadanie 3\n",
    "\n",
    "**Napisz funkcję, która oblicza NWD wg algorytmu Euklidesa.**"
   ]
  },
  {
   "cell_type": "markdown",
   "metadata": {},
   "source": [
    "**Link:** https://colab.research.google.com/github/marcinsawinski/LAB_ASD/blob/master/asd_1_3.ipynb"
   ]
  },
  {
   "cell_type": "markdown",
   "metadata": {},
   "source": [
    "## Teoria\n",
    "Według algorytmu Euklidesa, NWD($a,b$) wyliczymy w poniższy sposób: \n",
    "$a=q_{1}b+r_{1}$\n",
    "\n",
    "$b=q_{2}r_{1}+r_{2}$\n",
    "\n",
    "$r_{1}=q_{3}r_{2}+r_{3}$\n",
    "\n",
    "$r_{2}=q_{4}r_{3}+r_{4}$\n",
    "\n",
    "$\\,\\,\\,\\vdots$\n",
    "\n",
    "$r_{n-2}=q_{n}r_{n-1}+r_{n}$\n",
    "\n",
    "$r_{n-1}=q_{n+1}r_{n}+0$\n"
   ]
  },
  {
   "cell_type": "code",
   "execution_count": null,
   "metadata": {
    "vscode": {
     "languageId": "plaintext"
    }
   },
   "outputs": [],
   "source": []
  }
 ],
 "metadata": {
  "kernelspec": {
   "display_name": "Python 3.8.9 64-bit",
   "language": "python",
   "name": "python3"
  },
  "language_info": {
   "name": "python",
   "version": "3.8.9"
  },
  "orig_nbformat": 4,
  "vscode": {
   "interpreter": {
    "hash": "31f2aee4e71d21fbe5cf8b01ff0e069b9275f58929596ceb00d14d90e3e16cd6"
   }
  }
 },
 "nbformat": 4,
 "nbformat_minor": 2
}
