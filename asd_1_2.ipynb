{
 "cells": [
  {
   "cell_type": "markdown",
   "metadata": {},
   "source": [
    "# Zadanie 2\n",
    "\n",
    "**Napisz funkcję, która oblicza pierwiastki równania kwadratowego.**"
   ]
  },
  {
   "cell_type": "markdown",
   "metadata": {},
   "source": [
    "## Teoria\n",
    "\n",
    "Niech $a,b,c \\in \\mathbb{R}, a \\neq 0$.\n",
    "Pierwiastki równania kwadratowego o postaci $y=ax^2+bx+c$ wyliczamy korzystając ze znanego ze szkoły średniej algorytmu.\n",
    "\n",
    "Pierwiastki rzeczywiste równania kwadratowego\n",
    "\n",
    "1. Function Quadratic-Roots($a, b, c$)\n",
    "\n",
    "1. &emsp;$\\Delta \\gets b^2 - 4ac$\n",
    "\n",
    "1. &emsp;if $\\Delta > 0$ then\n",
    "\n",
    "1. &emsp;&emsp;$x_1 \\gets \\frac{-b - \\sqrt{\\Delta}}{2a}$\n",
    "\n",
    "1. &emsp;&emsp;$x_2 \\gets \\frac{-b + \\sqrt{\\Delta}}{2a}$\n",
    "\n",
    "1. &emsp;&emsp;return $\\left \\{x_1, x_2 \\right \\}$\n"
   ]
  },
  {
   "cell_type": "markdown",
   "metadata": {},
   "source": [
    "**The Cauchy-Schwarz Inequality**\n",
    "\n",
    "$$\\left( \\sum_{k=1}^n a_k b_k \\right)^2 \\leq \\left( \\sum_{k=1}^n a_k^2 \\right) \\left( \\sum_{k=1}^n b_k^2 \\right)$$"
   ]
  }
 ],
 "metadata": {
  "kernelspec": {
   "display_name": "Python 3.8.9 64-bit",
   "language": "python",
   "name": "python3"
  },
  "language_info": {
   "name": "python",
   "version": "3.8.9"
  },
  "orig_nbformat": 4,
  "vscode": {
   "interpreter": {
    "hash": "31f2aee4e71d21fbe5cf8b01ff0e069b9275f58929596ceb00d14d90e3e16cd6"
   }
  }
 },
 "nbformat": 4,
 "nbformat_minor": 2
}
