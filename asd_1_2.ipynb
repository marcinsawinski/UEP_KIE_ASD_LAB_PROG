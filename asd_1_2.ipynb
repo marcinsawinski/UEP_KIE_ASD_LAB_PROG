{
 "cells": [
  {
   "cell_type": "markdown",
   "metadata": {},
   "source": [
    "# Zadanie 1.2\n",
    "\n",
    "**Napisz funkcję, która oblicza pierwiastki równania kwadratowego.**"
   ]
  },
  {
   "cell_type": "markdown",
   "metadata": {},
   "source": [
    "**Link:** https://colab.research.google.com/github/marcinsawinski/UEP_KIE_ASD_LAB_PROG/blob/master/asd_1_2.ipynb"
   ]
  },
  {
   "cell_type": "markdown",
   "metadata": {},
   "source": [
    "## Teoria\n",
    "\n",
    "Niech $a,b,c \\in \\mathbb{R}, a \\neq 0$.\n",
    "Pierwiastki równania kwadratowego o postaci $y=ax^2+bx+c$ wyliczamy korzystając ze znanego ze szkoły średniej algorytmu.\n",
    "\n",
    "Pierwiastki rzeczywiste równania kwadratowego\n",
    "\n",
    "1. Function Quadratic-Roots($a, b, c$)\n",
    "\n",
    "1. &emsp;$\\Delta \\gets b^2 - 4ac$\n",
    "\n",
    "1. &emsp;if $\\Delta > 0$ then\n",
    "\n",
    "1. &emsp;&emsp;$x_1 \\gets \\frac{-b - \\sqrt{\\Delta}}{2a}$\n",
    "\n",
    "1. &emsp;&emsp;$x_2 \\gets \\frac{-b + \\sqrt{\\Delta}}{2a}$\n",
    "\n",
    "1. &emsp;&emsp;return $\\left \\{x_1, x_2 \\right \\}$\n"
   ]
  },
  {
   "cell_type": "markdown",
   "metadata": {},
   "source": [
    "# Miejsce na wpisanie kodu"
   ]
  },
  {
   "cell_type": "code",
   "execution_count": null,
   "metadata": {},
   "outputs": [],
   "source": []
  }
 ],
 "metadata": {
  "kernelspec": {
   "display_name": "Python 3.8.9 64-bit",
   "language": "python",
   "name": "python3"
  },
  "language_info": {
   "codemirror_mode": {
    "name": "ipython",
    "version": 3
   },
   "file_extension": ".py",
   "mimetype": "text/x-python",
   "name": "python",
   "nbconvert_exporter": "python",
   "pygments_lexer": "ipython3",
   "version": "3.9.6"
  },
  "orig_nbformat": 4,
  "vscode": {
   "interpreter": {
    "hash": "31f2aee4e71d21fbe5cf8b01ff0e069b9275f58929596ceb00d14d90e3e16cd6"
   }
  }
 },
 "nbformat": 4,
 "nbformat_minor": 2
}
