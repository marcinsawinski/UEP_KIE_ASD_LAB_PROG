{
 "cells": [
  {
   "cell_type": "markdown",
   "metadata": {},
   "source": [
    "# Zadanie 1.1\n",
    "\n",
    "**1. Napisz funkcję, która sprawdza czy przekazany argument jest liczbę pierwszą.**\n",
    "\n",
    "**2. Wskaz liczby pierwsze w zakresie  od 1 do 1000.**\n"
   ]
  },
  {
   "cell_type": "markdown",
   "metadata": {},
   "source": [
    "**Link:** https://colab.research.google.com/github/marcinsawinski/UEP_KIE_ASD_LAB_PROG/blob/master/asd_1_1.ipynb"
   ]
  },
  {
   "cell_type": "markdown",
   "metadata": {},
   "source": [
    "## Teoria - badanie czy liczba jest pierwszą\n",
    "\n",
    "Liczba pierwsza to taka liczba naturalna większa od 1, której jedynymi naturalnymi dzielnikami jest liczba 1 i ona sama. Oto kilka początkowych liczb pierwszych:\n",
    "\n",
    "2, 3, 5, 7, 11, 13, 17, 19, ...\n",
    "\n",
    "Warto zauważyć, że takich liczb jest nieskończenie wiele. Aby określić, czy dana liczba jest pierwsza należy zbadać jej dzielniki. Dla zadanej liczby n sprawdzamy kolejne liczby naturalne należące do przedziału:\n",
    "\n",
    "[2...√n]\n",
    "\n",
    "Jeśli któraś z tych liczb jest dzielnikiem, oznacza to, że nasza liczba nie jest pierwsza. Dlaczego wystarczy sprawdzić tylko liczby od 2 do pierwiastka z n ?\n",
    "Przeanalizujmy kilka przykładów i wypiszmy dzielniki dla następujących liczb: 24, 25 i 31.\n",
    "\n",
    "√24≈4,9\n",
    "D24={1, 2, 3, 4, |4,9|, 6, 8, 12, 24}\n",
    "\n",
    "√25=5\n",
    "D25={1, |5|, 25}\n",
    "\n",
    "√31≈5,6\n",
    "D24={1, |5,6|, 31}\n",
    "\n",
    "Warto zauważyć, że jeśli liczba n ma dzielniki większe od 1, to będzie ich tyle samo po lewej i prawej stronie √n.\n",
    "W przypadku liczb kwadratowych takich jak np. 25, pierwiastek z tej liczby będzie jej dzielnikiem. Wynika to z faktu, że jeśli liczba d jest dzielnikiem liczby n to zachodzi zależność:\n",
    "\n",
    "k=n/d⇒d=n/k\n",
    "\n",
    "np.\n",
    "\n",
    "6=24/4⇒4=24/6"
   ]
  },
  {
   "cell_type": "markdown",
   "metadata": {},
   "source": [
    "# Miejsce na wpisanie kodu"
   ]
  },
  {
   "cell_type": "code",
   "execution_count": null,
   "metadata": {},
   "outputs": [],
   "source": []
  },
  {
   "cell_type": "markdown",
   "metadata": {},
   "source": [
    "# Kod pomocniczy"
   ]
  },
  {
   "cell_type": "code",
   "execution_count": null,
   "metadata": {},
   "outputs": [],
   "source": [
    "# operator arytmetyczny dodawania\n",
    "1 + 1 # lub print(1+1)"
   ]
  },
  {
   "cell_type": "code",
   "execution_count": null,
   "metadata": {},
   "outputs": [],
   "source": [
    "# deklaracja zmiennej n\n",
    "n = 2\n",
    "n"
   ]
  },
  {
   "cell_type": "code",
   "execution_count": null,
   "metadata": {},
   "outputs": [],
   "source": [
    "# dodawanie wartosci do zmiennej\n",
    "n = n + 1\n",
    "n"
   ]
  },
  {
   "cell_type": "code",
   "execution_count": null,
   "metadata": {},
   "outputs": [],
   "source": [
    "# deklaracja funkcji, która dodaje 1 do argumentu n i zwraca wynik wynik dodawania\n",
    "def add_one(n):\n",
    "    n = n + 1\n",
    "    return n"
   ]
  },
  {
   "cell_type": "code",
   "execution_count": null,
   "metadata": {},
   "outputs": [],
   "source": [
    "# wywołanie funkcji\n",
    "add_one(5)"
   ]
  },
  {
   "cell_type": "code",
   "execution_count": null,
   "metadata": {},
   "outputs": [],
   "source": [
    "# obliczenie pierwiaska kwadratowego\n",
    "\n",
    "import math\n",
    "math.sqrt(4)"
   ]
  },
  {
   "cell_type": "code",
   "execution_count": null,
   "metadata": {},
   "outputs": [],
   "source": [
    "# operator modulo\n",
    "10 % 3"
   ]
  },
  {
   "cell_type": "code",
   "execution_count": null,
   "metadata": {},
   "outputs": [],
   "source": [
    "# operator arytmetyczny mniejszy niż\n",
    "1 < 2"
   ]
  },
  {
   "cell_type": "code",
   "execution_count": null,
   "metadata": {},
   "outputs": [],
   "source": [
    "# operator warunkowy if \n",
    "\n",
    "if 1 < 2 :\n",
    "    print(True)\n",
    "else:\n",
    "    print(False)"
   ]
  },
  {
   "cell_type": "code",
   "execution_count": null,
   "metadata": {},
   "outputs": [],
   "source": [
    "# pętla while\n",
    "\n",
    "n = 1\n",
    "while n < 4:\n",
    "    print(n)\n",
    "    n = n + 1"
   ]
  },
  {
   "cell_type": "code",
   "execution_count": null,
   "metadata": {},
   "outputs": [],
   "source": [
    "# deklaracja listy\n",
    "\n",
    "sequence = [0,1,2]\n",
    "sequence\n"
   ]
  },
  {
   "cell_type": "code",
   "execution_count": null,
   "metadata": {},
   "outputs": [],
   "source": [
    "# instrukcja iteracji po elementach sekwencji for\n",
    "\n",
    "for s in sequence:\n",
    "    print(s + 100)"
   ]
  },
  {
   "cell_type": "code",
   "execution_count": null,
   "metadata": {},
   "outputs": [],
   "source": [
    "# funkcja range generująca ciągi arytmetyczne\n",
    "for n in range(5):\n",
    "    print(n)"
   ]
  },
  {
   "cell_type": "code",
   "execution_count": null,
   "metadata": {},
   "outputs": [],
   "source": [
    "# generowanie listy z pomocą list comprehension\n",
    "[x for x in range(3)]"
   ]
  },
  {
   "cell_type": "code",
   "execution_count": null,
   "metadata": {},
   "outputs": [],
   "source": [
    "# definicja funkcji sprawdzającej, czy argument n jest podzielny przez argument d\n",
    "\n",
    "def is_divider(n,d):\n",
    "    if n % d == 0:\n",
    "        return True\n",
    "    else:\n",
    "        return False"
   ]
  },
  {
   "cell_type": "code",
   "execution_count": null,
   "metadata": {},
   "outputs": [],
   "source": [
    "# wywołanie funkcji\n",
    "\n",
    "is_divider(n = 10, d = 2)"
   ]
  }
 ],
 "metadata": {
  "kernelspec": {
   "display_name": "Python 3.10.6 ('uep_asd')",
   "language": "python",
   "name": "python3"
  },
  "language_info": {
   "codemirror_mode": {
    "name": "ipython",
    "version": 3
   },
   "file_extension": ".py",
   "mimetype": "text/x-python",
   "name": "python",
   "nbconvert_exporter": "python",
   "pygments_lexer": "ipython3",
   "version": "3.10.6"
  },
  "orig_nbformat": 4,
  "vscode": {
   "interpreter": {
    "hash": "1f48c4da89daea6b8e7239a1cf36b618658d1659514b1b7418d3c68f3beeda8d"
   }
  }
 },
 "nbformat": 4,
 "nbformat_minor": 2
}
